{
 "cells": [
  {
   "cell_type": "markdown",
   "id": "4dbc6434",
   "metadata": {},
   "source": [
    "Link to paper/exercises: https://arxiv.org/abs/1008.4686\n",
    "#### 1) Using the standard linear algebra method of this section, fit the straight line $y = mx+b$ to the $x, y, \\sigma_y$ values for data points 5 through 20 in Table 1 on page 6. Plot points, uncertainties, and best fit line. What is the uncertainty variance $\\sigma_m^2$ on the slope of the line?"
   ]
  },
  {
   "cell_type": "code",
   "execution_count": 1,
   "id": "487bef22",
   "metadata": {},
   "outputs": [],
   "source": [
    "import numpy as np\n",
    "import matplotlib.pyplot as plt\n",
    "from scipy import linalg"
   ]
  },
  {
   "cell_type": "code",
   "execution_count": 2,
   "id": "7d01056f",
   "metadata": {},
   "outputs": [],
   "source": [
    "#Data from Table 1:\n",
    "xs = np.array([201, 244, 47, 287, 203, 58, 210, 202, 198, 158, 165, 201, 157, 131, 166, 160, 186, 125, 218, 146])\n",
    "ys = np.array([592, 401, 583, 402, 495, 173, 479, 504, 510, 416, 393, 442, 317, 311, 400, 337, 423, 334, 533, 344])\n",
    "sigma_ys = np.array([61, 25, 38, 15, 21, 15, 27, 14, 30, 16, 14, 25, 52, 16, 34, 31, 42, 26, 16, 22])"
   ]
  },
  {
   "cell_type": "markdown",
   "id": "641a7d19",
   "metadata": {},
   "source": [
    "How do we fit data to a mean model? First, write down the log likelihood function:\n",
    "\n",
    "$\\mathcal{L}(m,b) = \\sum_{i=1}^{\\infty} \\ln p(y_i|r_1,r_2, ...;x_i, \\sigma_i)$ where $\\{r_1, r_2, ...\\}$are parameters of the mean model we are fitting to. For a straight line, we are fitting to the mean model $y = mx+b$, so these parameters are $\\{m, b\\}$. \n",
    "\n",
    "Then write down the probability of observing data point $y_i$ given the mean model and variance of data point $y_i$:\n",
    "\n",
    "$p(y_i|...) = \\mathcal{N}(y_i|mx_i+b, \\sigma_i^2) = \\frac{1}{\\sqrt{2\\pi\\sigma_i^2}}e^{-\\frac{1}{2\\sigma_i^2}\\left(y_i-[mx_i+b]\\right)^2}$\n",
    "\n",
    "Then the log of this probability is $\\ln p(y_i|...) = -\\frac{1}{2\\sigma_i^2}(y_i-(mx_i+b))^2 + \\ln ...$. We don't care about the constant term because we are going to optimize the log likelihood.\n",
    "\n",
    "Then the log likelihood is $\\mathcal{L} = -\\frac{1}{2}\\sum_{i=1}^{N}\\frac{1}{\\sigma_i^2}\\left(y_i-[mx_i+b]\\right)^2+constant$.\n",
    "\n",
    "Putting this in matrix form, we get $\\mathcal{L} = -\\frac{1}{2}(Y-X\\theta)^TC^{-1}(Y-X\\theta)$.\n",
    "\n",
    "Maximizing the log likelihood, we get $\\hat{\\theta} = (X^TC^{-1}X)^{-1}X^TC^{-1}Y$.\n",
    "\n",
    "Realistically, we want to avoid taking inverses in our code, so we'll solve this form using scipy.linalg.solve:\n",
    "\n",
    "$(X^TC^{-1}X)\\hat{\\theta} = X^TC^{-1}Y$\n",
    "\n",
    "noting that scipy.linalg.solve solves the equation $AZ = B$ for $Z$. Also recall that for the diagonal matrix $C$, $C^{-1}$ is equal to taking the inverse of every element along the diagonal. Remember that diagonal matrices work like numbers in terms of operation rules!\n",
    "\n",
    "The variance on $\\hat{\\theta}$ is given by the covariance matrix matrix $C_{\\hat{\\theta}} = (X^TC^{-1}X)^{-1}$. The diagonal elements are the variance of the b parameter and the slope parameter, from top to bottom respectively. "
   ]
  },
  {
   "cell_type": "code",
   "execution_count": 3,
   "id": "ab1fb66d",
   "metadata": {},
   "outputs": [],
   "source": [
    "# define Z, A, and B to plug into scipy.linalg.solve\n",
    "#Z = theta_hat\n",
    "\n",
    "#select data\n",
    "data_xs = xs[4:]\n",
    "data_ys = ys[4:]\n",
    "data_sigma_ys = sigma_ys[4:]\n",
    "\n",
    "X = np.vstack((data_xs, np.ones(len(data_xs)))).T\n",
    "Y = np.expand_dims(data_ys, 1)\n",
    "C_inv = np.zeros((len(data_xs), len(data_xs)))\n",
    "np.fill_diagonal(C_inv, 1/data_sigma_ys**2)\n",
    "A = (X.T@C_inv)@X\n",
    "B = (X.T@C_inv)@Y\n",
    "\n",
    "#solve\n",
    "Z = linalg.solve(A, B)\n",
    "\n",
    "#fit variance\n",
    "A = (X.T@C_inv)@X\n",
    "B = np.identity(A.shape[0])\n",
    "Z_var = linalg.solve(A, B)\n",
    "m_var = Z_var[1,1]"
   ]
  },
  {
   "cell_type": "code",
   "execution_count": 4,
   "id": "f70be60c",
   "metadata": {},
   "outputs": [],
   "source": [
    "def linear(x, m, b):\n",
    "    return m*x+b"
   ]
  },
  {
   "cell_type": "code",
   "execution_count": 5,
   "id": "15ffb1ec",
   "metadata": {},
   "outputs": [],
   "source": [
    "#unpack parameters:\n",
    "b = Z[0][0]\n",
    "b_err = np.sqrt(Z_var[0][0])  \n",
    "m = Z[1][0]\n",
    "m_err = np.sqrt(Z_var[1][1])"
   ]
  },
  {
   "cell_type": "code",
   "execution_count": 6,
   "id": "586cff6b",
   "metadata": {},
   "outputs": [
    {
     "name": "stdout",
     "output_type": "stream",
     "text": [
      "The uncertainty variance of the slope line is 332.92260104209987\n"
     ]
    }
   ],
   "source": [
    "print(f'The uncertainty variance of the slope line is {m_err**2}')"
   ]
  },
  {
   "cell_type": "code",
   "execution_count": 7,
   "id": "c4ca05e0",
   "metadata": {},
   "outputs": [
    {
     "data": {
      "text/plain": [
       "Text(0, 0.5, 'y')"
      ]
     },
     "execution_count": 7,
     "metadata": {},
     "output_type": "execute_result"
    },
    {
     "data": {
      "image/png": "[encoded data removed]",
      "text/plain": [
       "<Figure size 432x288 with 1 Axes>"
      ]
     },
     "metadata": {
      "needs_background": "light"
     },
     "output_type": "display_data"
    }
   ],
   "source": [
    "plt.errorbar(data_xs, data_ys, yerr = data_sigma_ys, linestyle = 'None', capsize=5, marker = 'o', label = 'data')\n",
    "plt.plot(data_xs, linear(data_xs, *Z), label = 'linear fit')\n",
    "plt.title(f'b={np.around(b,2)} +/- {np.around(b_err,2)} , m = {np.around(m,2)} +/- {np.around(m_err,2)} ')\n",
    "plt.legend()\n",
    "plt.xlabel('x')\n",
    "plt.ylabel('y')"
   ]
  },
  {
   "cell_type": "markdown",
   "id": "4e1f6211",
   "metadata": {},
   "source": [
    "#### 2) Repeat Exercise 1 but for all the data points in Table 1 on pg 6. What is the uncertainty variance on the slope of the line? Is there anything you don't like about this result? Is there anything different about the new points we have included?\n",
    "\n",
    "First let's make a function automating the linear fit:"
   ]
  },
  {
   "cell_type": "code",
   "execution_count": 8,
   "id": "e7c12c6c",
   "metadata": {},
   "outputs": [],
   "source": [
    "def linear_fit(data_xs, data_ys, data_sigma_ys, print_variance = True):\n",
    "    X = np.vstack((data_xs, np.ones(len(data_xs)))).T\n",
    "    Y = np.expand_dims(data_ys, 1)\n",
    "    C_inv = np.zeros((len(data_xs), len(data_xs)))\n",
    "    np.fill_diagonal(C_inv, 1/data_sigma_ys**2)\n",
    "    A = (X.T@C_inv)@X\n",
    "    B = (X.T@C_inv)@Y\n",
    "\n",
    "    #solve\n",
    "    Z = linalg.solve(A, B)\n",
    "\n",
    "    #fit variance\n",
    "    A = (X.T@C_inv)@X\n",
    "    B = np.identity(A.shape[0])\n",
    "    Z_var = linalg.solve(A, B)\n",
    "    \n",
    "    #unpack data\n",
    "    b = Z[0][0]\n",
    "    b_err = np.sqrt(Z_var[0][0])  \n",
    "    m = Z[1][0]\n",
    "    m_err = np.sqrt(Z_var[1][1])\n",
    "    \n",
    "    if print_variance == True:\n",
    "        print(f'The uncertainty variance of the slope line is {m_err**2}')\n",
    "    return b, b_err, m, m_err"
   ]
  },
  {
   "cell_type": "code",
   "execution_count": 9,
   "id": "74421b29",
   "metadata": {},
   "outputs": [
    {
     "name": "stdout",
     "output_type": "stream",
     "text": [
      "The uncertainty variance of the slope line is 207.18818909008235\n"
     ]
    }
   ],
   "source": [
    "# Apply linear fit to full data set\n",
    "\n",
    "b, b_err, m, m_err = linear_fit(xs, ys, sigma_ys)"
   ]
  },
  {
   "cell_type": "code",
   "execution_count": 10,
   "id": "bb2e255e",
   "metadata": {},
   "outputs": [
    {
     "data": {
      "text/plain": [
       "Text(0, 0.5, 'y')"
      ]
     },
     "execution_count": 10,
     "metadata": {},
     "output_type": "execute_result"
    },
    {
     "data": {
      "image/png": "[encoded data removed]",
      "text/plain": [
       "<Figure size 432x288 with 1 Axes>"
      ]
     },
     "metadata": {
      "needs_background": "light"
     },
     "output_type": "display_data"
    }
   ],
   "source": [
    "plt.errorbar(xs, ys, yerr = sigma_ys, linestyle = 'None', capsize=5, marker = 'o', label = 'data')\n",
    "plt.plot(xs, linear(xs, *Z), label = 'linear fit')\n",
    "plt.title(f'b={np.around(b,2)} +/- {np.around(b_err,2)} , m = {np.around(m,2)} +/- {np.around(m_err,2)} ')\n",
    "plt.legend()\n",
    "plt.xlabel('x')\n",
    "plt.ylabel('y')"
   ]
  },
  {
   "cell_type": "markdown",
   "id": "ae411dca",
   "metadata": {},
   "source": [
    "I don't like how the fit got worse but the uncertainty of the slope went down! The new points that are included are outliers."
   ]
  },
  {
   "cell_type": "markdown",
   "id": "2d7fbea6",
   "metadata": {},
   "source": [
    "#### 3) Generalize the standard fitting method to fit a general quadratic relationship. Add another column to matrix X and another element to vector $\\theta$. Then redo Exercise 1 but for fitting and plotting the best quadratic relationship $g(x) = qx^2+mx+b$."
   ]
  },
  {
   "cell_type": "markdown",
   "id": "fd9253da",
   "metadata": {},
   "source": [
    "Follow the same approach as the linear case above. First, write down the log likelihood function:\n",
    "\n",
    "$\\mathcal{L}(m,b) = \\sum_{i=1}^{\\infty} \\ln p(y_i|r_1,r_2, ...;x_i, \\sigma_i)$ where $\\{r_1, r_2, ...\\}$are parameters of the mean model we are fitting to. For a quadratic relationship, we are fitting to the mean model $y = qx^2+mx+b$, so these parameters are $\\{q, m, b\\}$. \n",
    "\n",
    "Then write down the probability of observing data point $y_i$ given the mean model and variance of data point $y_i$:\n",
    "\n",
    "$p(y_i|...) = \\mathcal{N}(y_i|qx^2+mx+b, \\sigma_i^2) = \\frac{1}{\\sqrt{2\\pi\\sigma_i^2}}e^{-\\frac{1}{2\\sigma_i^2}\\left(y_i-[qx^2+mx+b]\\right)^2}$\n",
    "\n",
    "Then the log of this probability is $\\ln p(y_i|...) = -\\frac{1}{2\\sigma_i^2}(y_i-(qx^2+mx+b))^2 + \\ln ...$. We don't care about the constant term because we are going to optimize the log likelihood.\n",
    "\n",
    "Then the log likelihood is $\\mathcal{L} = -\\frac{1}{2}\\sum_{i=1}^{N}\\frac{1}{\\sigma_i^2}\\left(y_i-[qx^2+mx+b]\\right)^2+constant$.\n",
    "\n",
    "Putting this in matrix form, we get $\\mathcal{L} = -\\frac{1}{2}(Y-X\\theta)^TC^{-1}(Y-X\\theta)$.\n",
    "\n",
    "Maximizing the log likelihood, we get $\\hat{\\theta} = (X^TC^{-1}X)^{-1}X^TC^{-1}Y$.\n",
    "\n",
    "Realistically, we want to avoid taking inverses in our code, so we'll solve this form using scipy.linalg.solve:\n",
    "\n",
    "$(X^TC^{-1}X)\\hat{\\theta} = X^TC^{-1}Y$\n",
    "\n",
    "noting that scipy.linalg.solve solves the equation $AZ = B$ for $Z$. Also recall that for the diagonal matrix $C$, $C^{-1}$ is equal to taking the inverse of every element along the diagonal. Remember that diagonal matrices work like numbers in terms of operation rules!\n",
    "\n",
    "The variance on $\\hat{\\theta}$ is given by the covariance matrix matrix $C_{\\hat{\\theta}} = (X^TC^{-1}X)^{-1}$. The diagonal elements are the variance of the q parameter, the linear slope parameter, and the linear intercept parameter, from top to bottom respectively. "
   ]
  },
  {
   "cell_type": "code",
   "execution_count": 11,
   "id": "01d4742d",
   "metadata": {},
   "outputs": [],
   "source": [
    "def quadratic_fit(data_xs, data_ys, data_sigma_ys):\n",
    "    X = np.vstack((data_xs**2, data_xs, np.ones(len(data_xs)))).T\n",
    "    Y = np.expand_dims(data_ys, 1)\n",
    "    C_inv = np.zeros((len(data_xs), len(data_xs)))\n",
    "    np.fill_diagonal(C_inv, 1/data_sigma_ys**2)\n",
    "    A = (X.T@C_inv)@X\n",
    "    B = (X.T@C_inv)@Y\n",
    "\n",
    "    #solve\n",
    "    Z = linalg.solve(A, B)\n",
    "\n",
    "    #fit variance\n",
    "    A = (X.T@C_inv)@X\n",
    "    B = np.identity(A.shape[0])\n",
    "    Z_var = linalg.solve(A, B)\n",
    "    \n",
    "    #unpack data\n",
    "    q = Z[0][0]\n",
    "    q_err = np.sqrt(Z_var[0][0])  \n",
    "    m = Z[1][0]\n",
    "    m_err = np.sqrt(Z_var[1][1])\n",
    "    b = Z[2][0]\n",
    "    b_err = np.sqrt(Z_var[2][2]) \n",
    "    print(f'The uncertainty variance of the slope line is {m_err**2}')\n",
    "    return q, q_err, b, b_err, m, m_err"
   ]
  },
  {
   "cell_type": "code",
   "execution_count": 12,
   "id": "074da8f5",
   "metadata": {},
   "outputs": [],
   "source": [
    "def quadratic(x, q, m, b):\n",
    "    return q*x**2+m*x+b"
   ]
  },
  {
   "cell_type": "code",
   "execution_count": 13,
   "id": "bb42572a",
   "metadata": {},
   "outputs": [
    {
     "name": "stdout",
     "output_type": "stream",
     "text": [
      "The uncertainty variance of the slope line is 0.33610764206836025\n"
     ]
    }
   ],
   "source": [
    "q, q_err, b, b_err, m, m_err = quadratic_fit(data_xs, data_ys, data_sigma_ys)"
   ]
  },
  {
   "cell_type": "code",
   "execution_count": 14,
   "id": "3aca52c0",
   "metadata": {},
   "outputs": [
    {
     "data": {
      "text/plain": [
       "Text(0, 0.5, 'y')"
      ]
     },
     "execution_count": 14,
     "metadata": {},
     "output_type": "execute_result"
    },
    {
     "data": {
      "image/png": "[encoded data removed]",
      "text/plain": [
       "<Figure size 432x288 with 1 Axes>"
      ]
     },
     "metadata": {
      "needs_background": "light"
     },
     "output_type": "display_data"
    }
   ],
   "source": [
    "plt.errorbar(data_xs, data_ys, yerr = data_sigma_ys, linestyle = 'None', capsize=5, marker = 'o', label = 'data')\n",
    "plt.plot(np.arange(np.min(xs), np.max(xs)), quadratic(np.arange(np.min(xs), np.max(xs)), q, m, b), \\\n",
    "         label = 'quadratic fit')\n",
    "plt.title(f'b={np.around(b,2)} +/- {np.around(b_err,2)} , m = {np.around(m,2)} +/- {np.around(m_err,2)} , q={np.around(q,4)} +/- {np.around(q_err,4)} ')\n",
    "plt.legend()\n",
    "plt.xlabel('x')\n",
    "plt.ylabel('y')"
   ]
  },
  {
   "cell_type": "markdown",
   "id": "49bb6472",
   "metadata": {},
   "source": [
    "#### 8) Compute the uncertainty variance obtained for the slope of the line found by the fit done in 2). Now make jackknife (20 trials) and boostrap estimates for the uncertainty variance. Which uncertainty seems most reasonable?"
   ]
  },
  {
   "cell_type": "code",
   "execution_count": 15,
   "id": "28920357",
   "metadata": {},
   "outputs": [
    {
     "name": "stdout",
     "output_type": "stream",
     "text": [
      "The uncertainty variance of the slope line is 207.18818909008235\n"
     ]
    },
    {
     "data": {
      "text/plain": [
       "Text(0, 0.5, 'y')"
      ]
     },
     "execution_count": 15,
     "metadata": {},
     "output_type": "execute_result"
    },
    {
     "data": {
      "image/png": "[encoded data removed]",
      "text/plain": [
       "<Figure size 432x288 with 1 Axes>"
      ]
     },
     "metadata": {
      "needs_background": "light"
     },
     "output_type": "display_data"
    }
   ],
   "source": [
    "# recall exercise 2:\n",
    "\n",
    "# Apply linear fit to full data set\n",
    "\n",
    "b, b_err, m, m_err = linear_fit(xs, ys, sigma_ys)\n",
    "\n",
    "plt.errorbar(xs, ys, yerr = sigma_ys, linestyle = 'None', capsize=5, marker = 'o', label = 'data')\n",
    "plt.plot(xs, linear(xs, *Z), label = 'linear fit')\n",
    "plt.title(f'b={np.around(b,2)} +/- {np.around(b_err,2)} , m = {np.around(m,2)} +/- {np.around(m_err,2)} ')\n",
    "plt.legend()\n",
    "plt.xlabel('x')\n",
    "plt.ylabel('y')"
   ]
  },
  {
   "cell_type": "markdown",
   "id": "d982e89e",
   "metadata": {},
   "source": [
    "Now implement jackknife:\n",
    "For each $i\\in [n]$ we compute the desired statistic of the jackknife subsample consisting of all but the i-th data point, and this is called the $i$-th jackknife replicate. Then we take the variance of these collected statistics to get the variance estimate of the statistic. Source: https://en.wikipedia.org/wiki/Jackknife_resampling"
   ]
  },
  {
   "cell_type": "code",
   "execution_count": 16,
   "id": "e9d44dfa",
   "metadata": {},
   "outputs": [],
   "source": [
    "def jackknife_linear_fit(data_xs, data_ys, data_sigma_ys, replicates = 20):\n",
    "    ms = []\n",
    "    bs = []\n",
    "    for i in range(replicates):\n",
    "        xs = np.delete(data_xs, i)\n",
    "        ys = np.delete(data_ys, i)\n",
    "        sigma_ys = np.delete(data_sigma_ys, i)\n",
    "        b, b_err, m, m_err = linear_fit(xs, ys, sigma_ys, print_variance = False)\n",
    "        ms.append(m)\n",
    "        bs.append(b)\n",
    "    bvar = np.var(bs)\n",
    "    mvar = np.var(ms)\n",
    "    return bvar, mvar    "
   ]
  },
  {
   "cell_type": "code",
   "execution_count": 17,
   "id": "f0821f23",
   "metadata": {},
   "outputs": [],
   "source": [
    "bvar, mvar = jackknife_linear_fit(xs, ys, sigma_ys, replicates = 20)"
   ]
  },
  {
   "cell_type": "code",
   "execution_count": 18,
   "id": "1aeacd57",
   "metadata": {},
   "outputs": [
    {
     "name": "stdout",
     "output_type": "stream",
     "text": [
      "Using jackknife, the uncertainty variance on b is 0.0402, while the uncertainty variance on m is 1264.2625\n"
     ]
    }
   ],
   "source": [
    "print(f'Using jackknife, the uncertainty variance on b is {np.around(bvar,4)}, while the uncertainty variance on m is {np.around(mvar,4)}')"
   ]
  },
  {
   "cell_type": "markdown",
   "id": "129ce131",
   "metadata": {},
   "source": [
    "Now implement bootstrap:\n",
    "For each $i\\in [n]$ we compute the desired statistic of the bootstrap sample consisting of $N$ data points sampled from the data length $N$ with replacement. Then we take the variance of these collected statistics to get the variance estimate of the statistic.\n",
    "Source: https://en.wikipedia.org/wiki/Bootstrapping_(statistics)"
   ]
  },
  {
   "cell_type": "code",
   "execution_count": 19,
   "id": "b2d13ca4",
   "metadata": {},
   "outputs": [],
   "source": [
    "def bootstrap_linear_fit(data_xs, data_ys, data_sigma_ys, replicates = 100):\n",
    "    ms = []\n",
    "    bs = []\n",
    "    for i in range(replicates):\n",
    "        indices = np.random.randint(0, len(data_xs), size = len(data_xs))\n",
    "        xs = data_xs[indices]\n",
    "        ys = data_ys[indices]\n",
    "        sigma_ys = data_sigma_ys[indices]\n",
    "        b, b_err, m, m_err = linear_fit(xs, ys, sigma_ys,print_variance = False)\n",
    "        ms.append(m)\n",
    "        bs.append(b)\n",
    "    bvar = np.var(bs)\n",
    "    mvar = np.var(ms)\n",
    "    return bvar, mvar   "
   ]
  },
  {
   "cell_type": "code",
   "execution_count": 20,
   "id": "71f134f9",
   "metadata": {},
   "outputs": [],
   "source": [
    "bvar, mvar = bootstrap_linear_fit(xs, ys, sigma_ys, replicates = 100)"
   ]
  },
  {
   "cell_type": "code",
   "execution_count": 21,
   "id": "b3cba647",
   "metadata": {},
   "outputs": [
    {
     "name": "stdout",
     "output_type": "stream",
     "text": [
      "Using bootstrap, the uncertainty variance on b is 0.3696, while the uncertainty variance on m is 11738.3126\n"
     ]
    }
   ],
   "source": [
    "print(f'Using bootstrap, the uncertainty variance on b is {np.around(bvar,4)}, while the uncertainty variance on m is {np.around(mvar,4)}')"
   ]
  },
  {
   "cell_type": "markdown",
   "id": "a64cfc3f",
   "metadata": {},
   "source": [
    "I trust bootstrapping the most out of all these uncertainties! Adding those 4 outliers should increase the fit uncertainty by a lot."
   ]
  },
  {
   "cell_type": "code",
   "execution_count": null,
   "id": "1e9750bc",
   "metadata": {},
   "outputs": [],
   "source": []
  }
 ],
 "metadata": {
  "kernelspec": {
   "display_name": "Python 3",
   "language": "python",
   "name": "python3"
  },
  "language_info": {
   "codemirror_mode": {
    "name": "ipython",
    "version": 3
   },
   "file_extension": ".py",
   "mimetype": "text/x-python",
   "name": "python",
   "nbconvert_exporter": "python",
   "pygments_lexer": "ipython3",
   "version": "3.8.8"
  }
 },
 "nbformat": 4,
 "nbformat_minor": 5
}
